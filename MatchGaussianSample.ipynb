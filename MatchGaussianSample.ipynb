{
 "cells": [
  {
   "cell_type": "code",
   "execution_count": null,
   "id": "c9711ba4",
   "metadata": {},
   "outputs": [],
   "source": [
    "from baulab import show, Range, Numberbox, PlotWidget, set_requires_grad\n",
    "import torch, numpy"
   ]
  },
  {
   "cell_type": "markdown",
   "id": "5638ddf3",
   "metadata": {},
   "source": [
    "# The Generative Modeling Setting\n",
    "\n",
    "This notebook sets up the generative modeling game to help build some intuition about the problem setting. To set up the game, we set up a true (but computationally unknown) distribution, and we also set up a generated distribution that is explicitly under your control.\n",
    "\n",
    "We plot both: the **true** distribution is in orange.\n",
    "\n",
    "Your **generated** distribution is in blue."
   ]
  },
  {
   "cell_type": "code",
   "execution_count": null,
   "id": "838b1fa8",
   "metadata": {},
   "outputs": [],
   "source": [
    "torch.set_grad_enabled(False)\n",
    "\n",
    "num_samples = 1000\n",
    "\n",
    "z = torch.from_numpy(numpy.random.RandomState(1).randn(num_samples, 2)).float()\n",
    "true_model = torch.nn.Linear(2, 2)\n",
    "data = true_model(torch.from_numpy(numpy.random.RandomState(2).randn(num_samples, 2)).float())\n",
    "\n",
    "def draw_scatter(fig, A=1.0, B=0.0, C=0.0, D=1.0, X=0.0, Y=0.0, title='Gaussian', minibatch=num_samples):\n",
    "    [ax] = fig.axes\n",
    "    ax.clear()\n",
    "    \n",
    "    layer = torch.nn.Linear(2, 2)\n",
    "    layer.weight[...] = torch.tensor([[A, B], [C, D]])\n",
    "    layer.bias[...] = torch.tensor([X, Y])\n",
    "    \n",
    "    output = layer(z)\n",
    "    \n",
    "    batch = numpy.random.choice(num_samples, min(minibatch, num_samples))\n",
    "    \n",
    "    ax.scatter(output[batch,0], output[batch,1], s=1, label='Generated samples')\n",
    "    ax.scatter(data[batch,0], data[batch,1], s=1, label='True samples')\n",
    "    ax.set_title(title)\n",
    "    ax.set_aspect(1.0)\n",
    "    ax.set_xlim(-5, 5)\n",
    "    ax.set_ylim(-5, 5)\n",
    "    ax.legend(loc='upper left')\n",
    "\n",
    "model_description = '''\n",
    "X = W Z + V\n",
    "\n",
    "    [ A  B ]      [ X ]\n",
    "W = [      ]  V = [   ]\n",
    "    [ B  C ]      [ Y ]\n",
    "'''"
   ]
  },
  {
   "cell_type": "markdown",
   "id": "f980ae77",
   "metadata": {},
   "source": [
    "## Interactive generative modeling\n",
    "\n",
    "Your model is defined by $X = WZ + M$, where $Z$ is a random normal vector, and $W$ and $V$ are a matrix and vector with parameters that you control.\n",
    "\n",
    "The game is: based on your observations of blue and orange dots, try to adjust $W$ and $V$ parameters to make the distributions match."
   ]
  },
  {
   "cell_type": "code",
   "execution_count": null,
   "id": "e69379f9",
   "metadata": {},
   "outputs": [],
   "source": [
    "before = PlotWidget(draw_scatter, figsize=(5, 5), dpi=100, title=\"Before transform\")\n",
    "after = PlotWidget(draw_scatter, figsize=(5, 5), dpi=100, title=\"After transform\")\n",
    "\n",
    "show([ ['Train a generative model by hand: match the orange distribution.'],\n",
    "       [before, after],\n",
    "       [show.style(textAlign='center'), model_description,\n",
    "         [\n",
    "          [  v,\n",
    "             show.style(flex=5), Range(value=after.prop(v), min=-2.0, max=2.0, step=0.01),\n",
    "             show.style(width=50), Numberbox(value=after.prop(v))]\n",
    "          for v in 'ABCDXY'\n",
    "         ]\n",
    "       ],\n",
    "       [show.style(textAlign='right', flex=3),\n",
    "        'Minibatch size', Numberbox(value=after.prop('minibatch'))]\n",
    "     ])"
   ]
  },
  {
   "cell_type": "markdown",
   "id": "f0c3e94a",
   "metadata": {},
   "source": [
    "Now try playing the game with a small minibatch size.  It gets harder.\n",
    "\n",
    "## Things to think about\n",
    "\n",
    "What did you do to solve the game?\n",
    "\n",
    " * You had to estimate the divergence between the two distributions.\n",
    " * You had to decide which noise to ignore, and what details to pay attention to.\n",
    " * You had to decide which direction to push the slider, that would help.\n",
    " * You had to decide when to stop...\n",
    "\n",
    "Also - we had to pick a set of modeling parameters that are powerful enough to get close to the distribution."
   ]
  }
 ],
 "metadata": {
  "kernelspec": {
   "display_name": "Python 3 (ipykernel)",
   "language": "python",
   "name": "python3"
  },
  "language_info": {
   "codemirror_mode": {
    "name": "ipython",
    "version": 3
   },
   "file_extension": ".py",
   "mimetype": "text/x-python",
   "name": "python",
   "nbconvert_exporter": "python",
   "pygments_lexer": "ipython3",
   "version": "3.9.9"
  }
 },
 "nbformat": 4,
 "nbformat_minor": 5
}